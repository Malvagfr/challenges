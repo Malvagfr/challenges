{
 "cells": [
  {
   "cell_type": "code",
   "execution_count": 50,
   "id": "1f48ca07",
   "metadata": {},
   "outputs": [],
   "source": [
    "def triangle(x):  \n",
    "    for j in range(len(x)-1):\n",
    "        y=[]\n",
    "        for i in range(len(x)-1):\n",
    "            if x[i]=='G' and x[i+1]=='G':\n",
    "                y.append('G')\n",
    "            elif x[i]=='B' and x[i+1]=='G':\n",
    "                y.append('R')\n",
    "            elif x[i]=='R' and x[i+1]=='G':\n",
    "                y.append('B')\n",
    "            elif x[i]=='B' and x[i+1]=='R':\n",
    "                y.append('G')\n",
    "            elif x[i]=='G' and x[i+1]=='B':\n",
    "                y.append('R')\n",
    "            elif x[i]=='G' and x[i+1]=='R':\n",
    "                y.append('B')\n",
    "            elif x[i]=='R' and x[i+1]=='B':\n",
    "                y.append('G')\n",
    "            elif x[i]=='B' and x[i+1]=='B':\n",
    "                y.append('B')\n",
    "            elif x[i]=='R' and x[i+1]=='R':\n",
    "                y.append('R')\n",
    "        x = ''.join(y)\n",
    "    return x"
   ]
  },
  {
   "cell_type": "code",
   "execution_count": 51,
   "id": "7c73c932",
   "metadata": {},
   "outputs": [
    {
     "data": {
      "text/plain": [
       "'G'"
      ]
     },
     "execution_count": 51,
     "metadata": {},
     "output_type": "execute_result"
    }
   ],
   "source": [
    "triangle(\"RRGBRGBB\")"
   ]
  }
 ],
 "metadata": {
  "kernelspec": {
   "display_name": "Python [conda env:ironhack]",
   "language": "python",
   "name": "conda-env-ironhack-py"
  },
  "language_info": {
   "codemirror_mode": {
    "name": "ipython",
    "version": 3
   },
   "file_extension": ".py",
   "mimetype": "text/x-python",
   "name": "python",
   "nbconvert_exporter": "python",
   "pygments_lexer": "ipython3",
   "version": "3.7.11"
  }
 },
 "nbformat": 4,
 "nbformat_minor": 5
}
