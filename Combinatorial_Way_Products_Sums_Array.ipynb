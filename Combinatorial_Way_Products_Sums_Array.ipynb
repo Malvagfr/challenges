{
 "cells": [
  {
   "cell_type": "markdown",
   "id": "71b05f26",
   "metadata": {},
   "source": [
    "In this kata we have to do products and sums, using the values of an array with an uncertain amount of integers(positive and/or negative). The numbers in the array occurs once. All of them are different."
   ]
  },
  {
   "cell_type": "markdown",
   "id": "dcc44254",
   "metadata": {},
   "source": [
    "We need a function eval_prod_sum(), that receives four arguments: (1), (2), (3) and (4)\n",
    "\n",
    "(1) - A list or array of integers (zi > 0 and/or zi < 0) of uncertain length n arr = [z1, z2, z3, .....,zn]\n",
    "\n",
    "(2) - An integer num_fact, is the number of factors to form the different products. If the array has of the form described above and numfact = 3, so the different products will be: z1.z2.z3, ........, z1.z2.zn, z2.z3.zn. .....\n",
    "\n",
    "(3) - An integer num_add, will define the number of products that will be added\n",
    "to get a result. For example if num_add = 2, our different results will be: z1.z2.z3 + z1.z2.zn, z1.z2.z3 + z2.z3.zn, .....\n",
    "\n",
    "(4) - An integer, maxVal, we should count:\n",
    "\n",
    "the amount of results that are below max_val, this is count1\n",
    "\n",
    "the amount of results that are equal max_val, this is count2\n",
    "\n",
    "the amount of results tha are higher than max_val, this is count3\n",
    "\n",
    "The result will be a list of dictionaries with the following structure:"
   ]
  },
  {
   "cell_type": "code",
   "execution_count": 264,
   "id": "bd2fe980",
   "metadata": {},
   "outputs": [],
   "source": [
    "def eval_prod_sum(lst, num_fact, num_add, max_val):\n",
    "    #error handling\n",
    "    not_int=False\n",
    "    for val in lst:\n",
    "        if isinstance(val, int)==False:\n",
    "            not_int=True\n",
    "    if type(num_fact)!=int or type(num_add)!=int or type(max_val)!=int or not_int:\n",
    "        return \"Error. Unexpected entries\"\n",
    "    elif num_fact<=0 or num_add<=0 or max_val<=0:\n",
    "        return \"Error. Unexpected entries\"   \n",
    "    elif num_fact>(len(lst)+1):\n",
    "        return \"Error. Number of factors too high\"\n",
    "    else:\n",
    "        # your code here\n",
    "        from itertools import combinations\n",
    "        import numpy as np\n",
    "        count_comb=0\n",
    "        for i in combinations(lst,num_fact):\n",
    "            count_comb+=1\n",
    "        if num_add>count_comb:\n",
    "            return \"Error. Number of addens too high\"\n",
    "        else:\n",
    "            #products list\n",
    "            prod_lst=[]\n",
    "            for i in combinations(lst,num_fact):\n",
    "                prod_value=np.prod(i)\n",
    "                prod_lst.append(prod_value)\n",
    "    \n",
    "            #sum list\n",
    "            sum_lst=[]\n",
    "            for i in combinations(prod_lst,num_add):\n",
    "                sum_value=np.sum(i)\n",
    "                sum_lst.append(sum_value)\n",
    "    \n",
    "            #calculating count1, count2 and count3\n",
    "            count1=0\n",
    "            count2=0\n",
    "            count3=0\n",
    "            for i in sum_lst:\n",
    "                if i<max_val:\n",
    "                    count1+=1\n",
    "                elif i==max_val:\n",
    "                    count2+=1\n",
    "                elif i>max_val:\n",
    "                    count3+=1\n",
    "            return [{f\"Below than {max_val}\": count1}, {f\"Equals to {max_val}\": count2}, {f\"Higher than {max_val}\": count3}]\n",
    "    "
   ]
  },
  {
   "cell_type": "code",
   "execution_count": 265,
   "id": "b6e5e978",
   "metadata": {},
   "outputs": [],
   "source": [
    "lst = [2, 10, 20, 15]\n",
    "num_fact = 3\n",
    "num_add = 2\n",
    "max_val = 8"
   ]
  },
  {
   "cell_type": "code",
   "execution_count": 277,
   "id": "18268acb",
   "metadata": {},
   "outputs": [],
   "source": [
    "arr = [-30, -24, 45, 50, -33]\n",
    "num_fact = 5\n",
    "num_add = 5\n",
    "max_val = 956"
   ]
  },
  {
   "cell_type": "code",
   "execution_count": 278,
   "id": "ac0bc593",
   "metadata": {},
   "outputs": [
    {
     "data": {
      "text/plain": [
       "'Error. Number of addens too high'"
      ]
     },
     "execution_count": 278,
     "metadata": {},
     "output_type": "execute_result"
    }
   ],
   "source": [
    "eval_prod_sum(lst, num_fact, num_add, max_val)"
   ]
  }
 ],
 "metadata": {
  "kernelspec": {
   "display_name": "Python [conda env:ironhack]",
   "language": "python",
   "name": "conda-env-ironhack-py"
  },
  "language_info": {
   "codemirror_mode": {
    "name": "ipython",
    "version": 3
   },
   "file_extension": ".py",
   "mimetype": "text/x-python",
   "name": "python",
   "nbconvert_exporter": "python",
   "pygments_lexer": "ipython3",
   "version": "3.7.11"
  }
 },
 "nbformat": 4,
 "nbformat_minor": 5
}
