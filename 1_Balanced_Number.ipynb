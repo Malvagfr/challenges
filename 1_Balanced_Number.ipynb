{
 "cells": [
  {
   "cell_type": "code",
   "execution_count": 1,
   "id": "4caef984",
   "metadata": {},
   "outputs": [],
   "source": [
    "\"\"\"\n",
    "1. This function returns:\n",
    "\n",
    "    - Balanced:  the sum of all digits to the left of the middle digit(s) \n",
    "                 are equal to \n",
    "                 the sum of all digits to the right of the middle digit(s) \n",
    "             \n",
    "    - Not Balanced: when the sums are not equal\n",
    "\n",
    "2. INPUT: An integrer\n",
    "\n",
    "3. OUTPUT: 2 posible strings: \"Balanced\" or \"Not Balanced\"\n",
    "\n",
    "4. BE CAREFUL: this function do not admit negative integrers\n",
    "\n",
    "\"\"\"\n",
    "\n",
    "def balanced_num(number):\n",
    "    \n",
    "    #converting number to string for calculating the len and middle\n",
    "    number= str(number)\n",
    "    \n",
    "    #numbers from 0 to 99 are always balanced (they do not have middle numbers)\n",
    "    if len(number)<=2:\n",
    "        return \"Balanced\"\n",
    "    \n",
    "    #up to 99 numbers are divided in 2 cases: odd and even, for those cases the middle is calculated diferently\n",
    "    else:\n",
    "        #odd numbers: the middle is the div by 2 taking the int part\n",
    "        if len(number)%2!=0:\n",
    "            middle=int(len(number)//2)\n",
    "        #even numbers: the middle is not taking into account the 2 middle numbers\n",
    "        else:\n",
    "            middle=int((len(number)-2)/2)\n",
    "        \n",
    "        #diving the number in 2 parts (left and right)\n",
    "        left=number[:middle]\n",
    "        right= number[-middle:]\n",
    "        \n",
    "        #converting strings to lists for sum the parts\n",
    "        left_list= list(left)\n",
    "        right_list= list(right)\n",
    "        \n",
    "        #calculating the sum of left numbers\n",
    "        sum_left=0\n",
    "        for item in left_list:\n",
    "            sum_left=sum_left + int(item)\n",
    "        \n",
    "        #calculating the sum of right numbers\n",
    "        sum_right=0\n",
    "        for item in right_list:\n",
    "            sum_right=sum_right + int(item)\n",
    "        \n",
    "        #asking if both sums are equal\n",
    "        if sum_left==sum_right:\n",
    "            return \"Balanced\"\n",
    "        else:\n",
    "            return \"Not Balanced\""
   ]
  },
  {
   "cell_type": "code",
   "execution_count": 2,
   "id": "64e75e8e",
   "metadata": {},
   "outputs": [
    {
     "data": {
      "text/plain": [
       "'Balanced'"
      ]
     },
     "execution_count": 2,
     "metadata": {},
     "output_type": "execute_result"
    }
   ],
   "source": [
    "balanced_num(24)"
   ]
  },
  {
   "cell_type": "code",
   "execution_count": 4,
   "id": "22e992bf",
   "metadata": {},
   "outputs": [
    {
     "data": {
      "text/plain": [
       "'Not Balanced'"
      ]
     },
     "execution_count": 4,
     "metadata": {},
     "output_type": "execute_result"
    }
   ],
   "source": [
    "balanced_num(5481)"
   ]
  },
  {
   "cell_type": "code",
   "execution_count": 5,
   "id": "e7eaed56",
   "metadata": {},
   "outputs": [
    {
     "data": {
      "text/plain": [
       "'Balanced'"
      ]
     },
     "execution_count": 5,
     "metadata": {},
     "output_type": "execute_result"
    }
   ],
   "source": [
    "balanced_num(544681)"
   ]
  }
 ],
 "metadata": {
  "kernelspec": {
   "display_name": "Python [conda env:ironhack]",
   "language": "python",
   "name": "conda-env-ironhack-py"
  },
  "language_info": {
   "codemirror_mode": {
    "name": "ipython",
    "version": 3
   },
   "file_extension": ".py",
   "mimetype": "text/x-python",
   "name": "python",
   "nbconvert_exporter": "python",
   "pygments_lexer": "ipython3",
   "version": "3.7.11"
  }
 },
 "nbformat": 4,
 "nbformat_minor": 5
}
