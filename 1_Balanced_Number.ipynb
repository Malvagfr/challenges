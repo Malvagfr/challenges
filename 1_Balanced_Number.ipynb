{
 "cells": [
  {
   "cell_type": "code",
   "execution_count": 2,
   "id": "4caef984",
   "metadata": {},
   "outputs": [],
   "source": [
    "def balanced_num(number):\n",
    "    number= str(number)\n",
    "    \n",
    "    if len(number)<=2:\n",
    "        return \"Balanced\"\n",
    "    else:\n",
    "        if len(number)%2!=0:\n",
    "            middle=int(len(number)//2)\n",
    "        else:\n",
    "            middle=int((len(number)-2)/2)\n",
    "            \n",
    "        left=number[:middle]\n",
    "        right= number[-middle:]\n",
    "    \n",
    "        left_list= list(left)\n",
    "        right_list= list(right)\n",
    "    \n",
    "        sum_left=0\n",
    "        for item in left_list:\n",
    "            sum_left=sum_left + int(item)\n",
    "        \n",
    "        sum_right=0\n",
    "        for item in right_list:\n",
    "            sum_right=sum_right + int(item)\n",
    "        \n",
    "    \n",
    "        if sum_left==sum_right:\n",
    "            return \"Balanced\"\n",
    "        else:\n",
    "            return \"Not Balanced\""
   ]
  },
  {
   "cell_type": "code",
   "execution_count": 3,
   "id": "64e75e8e",
   "metadata": {},
   "outputs": [
    {
     "data": {
      "text/plain": [
       "'Balanced'"
      ]
     },
     "execution_count": 3,
     "metadata": {},
     "output_type": "execute_result"
    }
   ],
   "source": [
    "balanced_num(24)"
   ]
  },
  {
   "cell_type": "code",
   "execution_count": 4,
   "id": "22e992bf",
   "metadata": {},
   "outputs": [
    {
     "data": {
      "text/plain": [
       "'Not Balanced'"
      ]
     },
     "execution_count": 4,
     "metadata": {},
     "output_type": "execute_result"
    }
   ],
   "source": [
    "balanced_num(5481)"
   ]
  },
  {
   "cell_type": "code",
   "execution_count": 5,
   "id": "e7eaed56",
   "metadata": {},
   "outputs": [
    {
     "data": {
      "text/plain": [
       "'Balanced'"
      ]
     },
     "execution_count": 5,
     "metadata": {},
     "output_type": "execute_result"
    }
   ],
   "source": [
    "balanced_num(544681)"
   ]
  }
 ],
 "metadata": {
  "kernelspec": {
   "display_name": "Python [conda env:ironhack]",
   "language": "python",
   "name": "conda-env-ironhack-py"
  },
  "language_info": {
   "codemirror_mode": {
    "name": "ipython",
    "version": 3
   },
   "file_extension": ".py",
   "mimetype": "text/x-python",
   "name": "python",
   "nbconvert_exporter": "python",
   "pygments_lexer": "ipython3",
   "version": "3.7.11"
  }
 },
 "nbformat": 4,
 "nbformat_minor": 5
}
