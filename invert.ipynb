{
 "cells": [
  {
   "cell_type": "code",
   "execution_count": 13,
   "id": "f7508dfb",
   "metadata": {},
   "outputs": [],
   "source": [
    "def invert(lst):\n",
    "    return  [-i for i in lst]"
   ]
  },
  {
   "cell_type": "code",
   "execution_count": 14,
   "id": "f761bd08",
   "metadata": {},
   "outputs": [
    {
     "data": {
      "text/plain": [
       "[-1, -2, -3, -4, -5]"
      ]
     },
     "execution_count": 14,
     "metadata": {},
     "output_type": "execute_result"
    }
   ],
   "source": [
    "invert([1,2,3,4,5])"
   ]
  },
  {
   "cell_type": "markdown",
   "id": "5135818e",
   "metadata": {},
   "source": [
    "If we list all the natural numbers below 10 that are multiples of 3 or 5, we get 3, 5, 6 and 9. The sum of these multiples is 23.\n",
    "\n",
    "Finish the solution so that it returns the sum of all the multiples of 3 or 5 below the number passed in. Additionally, if the number is negative, return 0 (for languages that do have them).\n",
    "\n",
    "Note: If the number is a multiple of both 3 and 5, only count it once.\n",
    "\n",
    "Courtesy of projecteuler.net (Problem 1)"
   ]
  },
  {
   "cell_type": "code",
   "execution_count": 36,
   "id": "a5138ff0",
   "metadata": {},
   "outputs": [],
   "source": [
    "def solution(number):\n",
    "    if number<0:\n",
    "        return 0\n",
    "    else:\n",
    "        multiples_list=[i for i in range(1,number) if i%3==0 or i%5==0]\n",
    "        return sum(multiples_list)"
   ]
  },
  {
   "cell_type": "code",
   "execution_count": 35,
   "id": "0f9f410f",
   "metadata": {},
   "outputs": [
    {
     "data": {
      "text/plain": [
       "23"
      ]
     },
     "execution_count": 35,
     "metadata": {},
     "output_type": "execute_result"
    }
   ],
   "source": [
    "solution(10)"
   ]
  },
  {
   "cell_type": "markdown",
   "id": "0a0f979a",
   "metadata": {},
   "source": [
    "You managed to send your friend to queue for tickets in your stead, but there is a catch: he will get there only if you tell him how much that is going to take. And everybody can only take one ticket at a time, then they go back in the last position of the queue if they need more (or go home if they are fine).\n",
    "\n",
    "Each ticket takes one minutes to emit, the queue is well disciplined, Brit-style, and so it moves smoothly, with no waste of time.\n",
    "\n",
    "You will be given an array/list/vector with all the people queuing and the initial position of your buddy, so for example, knowing that your friend is in the third position (that we will consider equal to the index, 2: he is the guy that wants 3 tickets!) and the initial queue is [2, 5, 3, 4, 6].\n",
    "\n",
    "The first dude gets his ticket and the queue goes now like this [5, 3, 4, 6, 1], then [3, 4, 6, 1, 4] and so on. In the end, our buddy will be queuing for 12 minutes, true story!\n",
    "\n",
    "Build a function to compute it, resting assured that only positive integers are going to be there and you will be always given a valid index; but we also want to go to pretty popular events, so be ready for big queues with people getting plenty of tickets.\n",
    "\n",
    "[hard core version now available if you don't want the \"easy\" kata!]"
   ]
  },
  {
   "cell_type": "code",
   "execution_count": null,
   "id": "85fdbde3",
   "metadata": {},
   "outputs": [],
   "source": [
    "# 1 min [2, 5, 3, 4, 6] position and number ticket"
   ]
  }
 ],
 "metadata": {
  "kernelspec": {
   "display_name": "Python [conda env:ironhack]",
   "language": "python",
   "name": "conda-env-ironhack-py"
  },
  "language_info": {
   "codemirror_mode": {
    "name": "ipython",
    "version": 3
   },
   "file_extension": ".py",
   "mimetype": "text/x-python",
   "name": "python",
   "nbconvert_exporter": "python",
   "pygments_lexer": "ipython3",
   "version": "3.7.11"
  }
 },
 "nbformat": 4,
 "nbformat_minor": 5
}
