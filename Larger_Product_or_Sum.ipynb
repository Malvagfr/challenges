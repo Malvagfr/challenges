{
 "cells": [
  {
   "cell_type": "code",
   "execution_count": 5,
   "id": "d61e2ca8",
   "metadata": {},
   "outputs": [],
   "source": [
    "def sum_or_product(array, n):\n",
    "    import numpy as np\n",
    "    \n",
    "    array.sort()\n",
    "    \n",
    "    result = 1\n",
    "    for item in array[:n]:\n",
    "        result = result * item\n",
    "    \n",
    "    #prod_min=np.prod(array[:n])\n",
    "    prod_min=result\n",
    "    sum_largest=sum(array[-n:])\n",
    "    \n",
    "    if sum_largest>prod_min:\n",
    "         return print(\"sum\")\n",
    "    elif prod_min>sum_largest:\n",
    "         return print(\"product\")\n",
    "    else: \n",
    "         return print(\"same\")   "
   ]
  },
  {
   "cell_type": "code",
   "execution_count": 6,
   "id": "c3fcff33",
   "metadata": {},
   "outputs": [
    {
     "name": "stdout",
     "output_type": "stream",
     "text": [
      "sum\n"
     ]
    }
   ],
   "source": [
    "sum_or_product([1, 2, 3, 4, 5, 6, 7, 8, 9, 10], 4)"
   ]
  }
 ],
 "metadata": {
  "kernelspec": {
   "display_name": "Python [conda env:ironhack]",
   "language": "python",
   "name": "conda-env-ironhack-py"
  },
  "language_info": {
   "codemirror_mode": {
    "name": "ipython",
    "version": 3
   },
   "file_extension": ".py",
   "mimetype": "text/x-python",
   "name": "python",
   "nbconvert_exporter": "python",
   "pygments_lexer": "ipython3",
   "version": "3.7.11"
  }
 },
 "nbformat": 4,
 "nbformat_minor": 5
}
