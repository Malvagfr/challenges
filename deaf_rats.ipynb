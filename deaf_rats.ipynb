{
 "cells": [
  {
   "cell_type": "code",
   "execution_count": 54,
   "id": "a9a8b06d",
   "metadata": {},
   "outputs": [],
   "source": [
    "def count_deaf_rats(town):\n",
    "    town=town.replace(' ','')\n",
    "    town_left=town.split('P')[0]\n",
    "    town_right= town.split('P')[1]\n",
    "    town_left=[town_left[i:i+2]for i in range(0,len(town_left),2)]\n",
    "    town_right=[town_right[i:i+2]for i in range(0,len(town_right),2)]\n",
    "    deaf_rats=0\n",
    "    for rat in town_left:\n",
    "        if rat!= '~O':\n",
    "            deaf_rats+=1\n",
    "            \n",
    "    for rat in town_right:\n",
    "        if rat!= 'O~':\n",
    "            deaf_rats+=1\n",
    "    return deaf_rats"
   ]
  },
  {
   "cell_type": "code",
   "execution_count": 55,
   "id": "c8ece34c",
   "metadata": {},
   "outputs": [
    {
     "data": {
      "text/plain": [
       "0"
      ]
     },
     "execution_count": 55,
     "metadata": {},
     "output_type": "execute_result"
    }
   ],
   "source": [
    "count_deaf_rats('~O~O~O~O P')"
   ]
  },
  {
   "cell_type": "code",
   "execution_count": 56,
   "id": "2c4be986",
   "metadata": {},
   "outputs": [
    {
     "data": {
      "text/plain": [
       "1"
      ]
     },
     "execution_count": 56,
     "metadata": {},
     "output_type": "execute_result"
    }
   ],
   "source": [
    "count_deaf_rats('P O~ O~ ~O O~')"
   ]
  },
  {
   "cell_type": "code",
   "execution_count": 57,
   "id": "4cca8ade",
   "metadata": {},
   "outputs": [
    {
     "data": {
      "text/plain": [
       "2"
      ]
     },
     "execution_count": 57,
     "metadata": {},
     "output_type": "execute_result"
    }
   ],
   "source": [
    "count_deaf_rats('~O~O~O~OP~O~OO~')"
   ]
  },
  {
   "cell_type": "code",
   "execution_count": 2,
   "id": "d833d608",
   "metadata": {},
   "outputs": [],
   "source": [
    "town='~O~O~O~OP~O~OO~'"
   ]
  },
  {
   "cell_type": "code",
   "execution_count": 3,
   "id": "51c349a1",
   "metadata": {},
   "outputs": [],
   "source": [
    "    town=town.replace(' ','')"
   ]
  },
  {
   "cell_type": "code",
   "execution_count": 6,
   "id": "59f754c8",
   "metadata": {},
   "outputs": [
    {
     "name": "stdout",
     "output_type": "stream",
     "text": [
      "0\n"
     ]
    }
   ],
   "source": [
    "town=town[::2]\n",
    "deaf=town.count('0')\n",
    "print(deaf)"
   ]
  },
  {
   "cell_type": "code",
   "execution_count": 7,
   "id": "73947d24",
   "metadata": {},
   "outputs": [],
   "source": [
    "town='~O~O~O~OP~O~OO~'"
   ]
  },
  {
   "cell_type": "code",
   "execution_count": 9,
   "id": "fa863946",
   "metadata": {},
   "outputs": [
    {
     "name": "stdout",
     "output_type": "stream",
     "text": [
      "0\n"
     ]
    }
   ],
   "source": [
    "deaf=town[::2].count('0')\n",
    "print(deaf)"
   ]
  }
 ],
 "metadata": {
  "kernelspec": {
   "display_name": "Python [conda env:ironhack]",
   "language": "python",
   "name": "conda-env-ironhack-py"
  },
  "language_info": {
   "codemirror_mode": {
    "name": "ipython",
    "version": 3
   },
   "file_extension": ".py",
   "mimetype": "text/x-python",
   "name": "python",
   "nbconvert_exporter": "python",
   "pygments_lexer": "ipython3",
   "version": "3.7.11"
  }
 },
 "nbformat": 4,
 "nbformat_minor": 5
}
